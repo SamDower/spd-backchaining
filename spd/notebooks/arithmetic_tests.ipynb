{
 "cells": [
  {
   "cell_type": "code",
   "execution_count": 4,
   "id": "c12170e5",
   "metadata": {},
   "outputs": [
    {
     "data": {
      "text/plain": [
       "SparseMLP(\n",
       "  (fc1): Linear(in_features=16, out_features=20, bias=False)\n",
       "  (fc2): Linear(in_features=20, out_features=20, bias=False)\n",
       "  (fc3): Linear(in_features=20, out_features=20, bias=False)\n",
       ")"
      ]
     },
     "execution_count": 4,
     "metadata": {},
     "output_type": "execute_result"
    }
   ],
   "source": [
    "from spd.experiments.mlp.models import SparseMLP\n",
    "from spd.configs import Config\n",
    "from spd.utils.general_utils import load_config\n",
    "import torch\n",
    "\n",
    "config = load_config(\"../experiments/mlp/arithmetic_config.yaml\", config_model=Config)\n",
    "device = torch.device(\"cuda\" if torch.cuda.is_available() else \"cpu\")\n",
    "\n",
    "target_model = SparseMLP()\n",
    "target_model.load_state_dict(torch.load(\"../experiments/mlp/arithmetic_model.pth\", map_location=device))\n",
    "target_model = target_model.to(device)\n",
    "target_model.eval()"
   ]
  },
  {
   "cell_type": "markdown",
   "id": "a7e4e500",
   "metadata": {},
   "source": [
    "spd-f9rg854i"
   ]
  },
  {
   "cell_type": "code",
   "execution_count": 5,
   "id": "e5f66a25",
   "metadata": {},
   "outputs": [
    {
     "name": "stdout",
     "output_type": "stream",
     "text": [
      "\n",
      "fc1\n",
      "fc2\n",
      "fc3\n"
     ]
    },
    {
     "data": {
      "text/plain": [
       "ComponentModel(\n",
       "  (patched_model): SparseMLP(\n",
       "    (fc1): ComponentsOrModule(\n",
       "      (original): Linear(in_features=16, out_features=20, bias=False)\n",
       "      (components): LinearComponents()\n",
       "    )\n",
       "    (fc2): ComponentsOrModule(\n",
       "      (original): Linear(in_features=20, out_features=20, bias=False)\n",
       "      (components): LinearComponents()\n",
       "    )\n",
       "    (fc3): ComponentsOrModule(\n",
       "      (original): Linear(in_features=20, out_features=20, bias=False)\n",
       "      (components): LinearComponents()\n",
       "    )\n",
       "  )\n",
       "  (_gates): ModuleDict(\n",
       "    (fc1): GateMLPs(\n",
       "      (layers): Sequential(\n",
       "        (0): ParallelLinear()\n",
       "        (1): GELU(approximate='none')\n",
       "        (2): ParallelLinear()\n",
       "      )\n",
       "    )\n",
       "    (fc2): GateMLPs(\n",
       "      (layers): Sequential(\n",
       "        (0): ParallelLinear()\n",
       "        (1): GELU(approximate='none')\n",
       "        (2): ParallelLinear()\n",
       "      )\n",
       "    )\n",
       "    (fc3): GateMLPs(\n",
       "      (layers): Sequential(\n",
       "        (0): ParallelLinear()\n",
       "        (1): GELU(approximate='none')\n",
       "        (2): ParallelLinear()\n",
       "      )\n",
       "    )\n",
       "  )\n",
       ")"
      ]
     },
     "execution_count": 5,
     "metadata": {},
     "output_type": "execute_result"
    }
   ],
   "source": [
    "from spd.models.component_model import ComponentModel\n",
    "import torch\n",
    "\n",
    "state_dict = torch.load(\"/root/spd_cache/runs/spd-35zpu6u3/model_30000.pth\", map_location=\"cpu\")\n",
    "\n",
    "target_model.requires_grad_(False)\n",
    "component_model = ComponentModel(\n",
    "    target_model=target_model,\n",
    "    target_module_patterns=config.target_module_patterns,\n",
    "    C=config.C,\n",
    "    gate_type=config.gate_type,\n",
    "    gate_hidden_dims=config.gate_hidden_dims,\n",
    "    pretrained_model_output_attr=config.pretrained_model_output_attr,\n",
    "    identity_module_patterns=config.identity_module_patterns,\n",
    ")\n",
    "\n",
    "component_model.load_state_dict(state_dict)\n",
    "component_model.eval()"
   ]
  },
  {
   "cell_type": "code",
   "execution_count": 6,
   "id": "b05cdcce",
   "metadata": {},
   "outputs": [],
   "source": [
    "components = {\n",
    "    \"fc1\": {\n",
    "        \"U\": component_model.patched_model.fc1.components.U,\n",
    "        \"V\": component_model.patched_model.fc1.components.V,\n",
    "    },\n",
    "    \"fc2\": {\n",
    "        \"U\": component_model.patched_model.fc2.components.U,\n",
    "        \"V\": component_model.patched_model.fc2.components.V,\n",
    "    },\n",
    "    \"fc3\": {\n",
    "        \"U\": component_model.patched_model.fc3.components.U,\n",
    "        \"V\": component_model.patched_model.fc3.components.V,\n",
    "    },\n",
    "}"
   ]
  },
  {
   "cell_type": "code",
   "execution_count": 7,
   "id": "ff30d57c",
   "metadata": {},
   "outputs": [],
   "source": [
    "target_direction = torch.zeros(20)\n",
    "target_direction[0] = 1\n",
    "\n",
    "read_norms = []\n",
    "write_norms = []\n",
    "cos_sims = []\n",
    "\n",
    "for c in range(100):\n",
    "    write_direction = components[\"fc3\"][\"U\"][c, :]\n",
    "    read_direction = components[\"fc3\"][\"V\"][:, c]\n",
    "    cos_sim = torch.nn.functional.cosine_similarity(write_direction, target_direction, dim=0) * read_direction.norm().item() * write_direction.norm().item()\n",
    "    cos_sims.append(cos_sim.item())\n",
    "    read_norms.append(read_direction.norm().item())\n",
    "    write_norms.append(write_direction.norm().item())\n",
    "# print(cos_sims)"
   ]
  },
  {
   "cell_type": "code",
   "execution_count": 8,
   "id": "d048f2e0",
   "metadata": {},
   "outputs": [
    {
     "data": {
      "image/png": "[encoded data removed]",
      "text/plain": [
       "<Figure size 640x480 with 1 Axes>"
      ]
     },
     "metadata": {},
     "output_type": "display_data"
    },
    {
     "data": {
      "image/png": "[encoded data removed]",
      "text/plain": [
       "<Figure size 640x480 with 1 Axes>"
      ]
     },
     "metadata": {},
     "output_type": "display_data"
    },
    {
     "data": {
      "image/png": "[encoded data removed]",
      "text/plain": [
       "<Figure size 640x480 with 1 Axes>"
      ]
     },
     "metadata": {},
     "output_type": "display_data"
    }
   ],
   "source": [
    "import matplotlib.pyplot as plt\n",
    "\n",
    "plt.hist(cos_sims, bins=20, edgecolor=\"black\")  # bins controls granularity\n",
    "plt.xlabel(\"Value\")\n",
    "plt.ylabel(\"Frequency\")\n",
    "plt.title(\"Histogram of values\")\n",
    "plt.show()\n",
    "\n",
    "plt.hist(read_norms, bins=20, edgecolor=\"black\")  # bins controls granularity\n",
    "plt.xlabel(\"Value\")\n",
    "plt.ylabel(\"Frequency\")\n",
    "plt.title(\"Histogram of values\")\n",
    "plt.show()\n",
    "\n",
    "plt.hist(write_norms, bins=20, edgecolor=\"black\")  # bins controls granularity\n",
    "plt.xlabel(\"Value\")\n",
    "plt.ylabel(\"Frequency\")\n",
    "plt.title(\"Histogram of values\")\n",
    "plt.show()"
   ]
  },
  {
   "cell_type": "code",
   "execution_count": 30,
   "id": "9d79cd79",
   "metadata": {},
   "outputs": [],
   "source": [
    "def backchain_one_layer(components, layer_name, target_directions, C):\n",
    "\n",
    "    Us = []\n",
    "    Vs = []\n",
    "\n",
    "    for c in range(C):\n",
    "        write_direction = components[layer_name][\"U\"][c, :]\n",
    "        read_direction = components[layer_name][\"V\"][:, c]\n",
    "\n",
    "        for t in range(len(target_directions)):\n",
    "            target_direction = target_directions[t]\n",
    "            cos_sim = torch.nn.functional.cosine_similarity(write_direction, target_direction, dim=0)\n",
    "            if abs(cos_sim * read_direction.norm().item() * write_direction.norm().item()) >= 0.6:\n",
    "                Us.append(write_direction)\n",
    "                Vs.append(read_direction)\n",
    "                break\n",
    "    \n",
    "    print(len(Us))\n",
    "    U_out = torch.stack(Us)\n",
    "    V_out = torch.stack(Vs)\n",
    "    return U_out, V_out\n",
    "\n"
   ]
  },
  {
   "cell_type": "code",
   "execution_count": 31,
   "id": "c485699f",
   "metadata": {},
   "outputs": [
    {
     "name": "stdout",
     "output_type": "stream",
     "text": [
      "4\n",
      "4\n",
      "1\n"
     ]
    }
   ],
   "source": [
    "target_dir = torch.zeros(20)\n",
    "target_dir[16] = 1\n",
    "\n",
    "target_directions = [target_dir]\n",
    "\n",
    "Us3, Vs3 = backchain_one_layer(components, \"fc3\", target_directions, 100)\n",
    "\n",
    "Us2, Vs2 = backchain_one_layer(components, \"fc2\", Vs3, 100)\n",
    "\n",
    "Us1, Vs1 = backchain_one_layer(components, \"fc1\", Vs2, 100)\n",
    "\n"
   ]
  },
  {
   "cell_type": "code",
   "execution_count": 32,
   "id": "d00688d1",
   "metadata": {},
   "outputs": [
    {
     "name": "stdout",
     "output_type": "stream",
     "text": [
      "tensor([ 6.4118e-04, -6.1925e-04,  1.0553e-03,  6.3939e-04, -9.0068e-04,\n",
      "         8.2106e-01, -7.3935e-04,  1.1309e-04, -1.1631e+00, -1.6728e+00,\n",
      "        -1.2041e+00,  2.8131e-04, -3.8282e-04,  1.1035e-03,  2.2932e-03,\n",
      "        -1.7369e-04], grad_fn=<SumBackward1>)\n"
     ]
    }
   ],
   "source": [
    "print(Vs1.sum(dim=0))"
   ]
  },
  {
   "cell_type": "code",
   "execution_count": 23,
   "id": "4ae4538c",
   "metadata": {},
   "outputs": [
    {
     "name": "stdout",
     "output_type": "stream",
     "text": [
      "tensor([[-8.9258e-02,  4.2824e-02,  4.2092e-02,  2.1737e-01, -7.8084e-02,\n",
      "          1.0527e-03,  5.8030e-02,  2.3486e-02, -9.1233e-02, -1.8212e-01,\n",
      "         -8.2669e-02, -1.8304e-02, -1.7744e-01, -2.0692e-01,  1.1641e-01,\n",
      "         -1.8485e-02,  1.9228e-01,  1.0560e-01,  1.5242e-02,  7.2334e-02],\n",
      "        [-4.9276e-02, -3.8352e-02, -7.4258e-02, -1.5436e-01, -1.1631e-01,\n",
      "          5.5064e-02,  3.9077e-02, -1.1666e-01, -5.0087e-02,  2.9634e-02,\n",
      "         -6.2737e-03,  9.2088e-03,  5.7097e-02,  1.0697e-01,  2.8249e-02,\n",
      "         -1.4952e-01, -6.5823e-02,  2.2073e-02,  5.3832e-03,  9.6492e-02],\n",
      "        [-1.3566e-01,  3.1092e-03, -3.2368e-02,  6.2541e-02, -1.9152e-01,\n",
      "          5.6158e-02,  9.4561e-02, -9.4728e-02, -1.4054e-01, -1.5162e-01,\n",
      "         -8.7181e-02, -9.4154e-03, -1.2015e-01, -1.0016e-01,  1.4379e-01,\n",
      "         -1.6669e-01,  1.2628e-01,  1.2644e-01,  1.9073e-02,  1.7150e-01],\n",
      "        [-1.6487e-02, -1.1786e-02,  2.6201e-02,  5.0939e-02, -2.1201e-02,\n",
      "         -1.7389e-02,  2.3828e-03,  1.9498e-02,  8.7577e-03, -1.2453e-02,\n",
      "          2.2570e-02, -9.9847e-03, -3.7413e-02, -3.5904e-02,  4.4182e-03,\n",
      "          1.2928e-02,  4.0454e-02,  1.5930e-02,  1.2533e-02, -8.4934e-03],\n",
      "        [-1.6826e-01,  4.4659e-02, -7.2844e-02,  2.4395e-01, -4.1312e-01,\n",
      "          8.6037e-02,  3.1303e-01,  7.0565e-02, -2.5832e-01, -2.6485e-01,\n",
      "         -5.2276e-02,  2.8853e-02, -2.8841e-01, -1.1963e-01,  2.8352e-01,\n",
      "         -2.1567e-01,  2.2217e-01,  3.0232e-01,  4.4492e-01,  2.0595e-02],\n",
      "        [-1.3908e-01, -3.2468e-02,  2.9337e-02,  2.4058e-01, -1.2970e-01,\n",
      "          4.5733e-02, -7.8486e-03, -1.9818e-01, -1.7697e-01, -2.9334e-01,\n",
      "         -1.1193e-01, -6.3545e-02, -2.7640e-01, -3.5028e-01,  2.0440e-01,\n",
      "         -1.3988e-01,  3.2770e-01,  1.5410e-01, -1.7057e-01,  4.3046e-01],\n",
      "        [ 5.3239e-03, -2.0945e-04,  1.1852e-02,  1.6538e-02,  1.1817e-02,\n",
      "         -9.8637e-03, -6.6468e-03,  1.5412e-02,  1.1921e-02,  3.0775e-03,\n",
      "          8.8015e-03, -2.3260e-03, -5.0278e-03, -9.1854e-03, -8.0125e-03,\n",
      "          1.9605e-02,  6.2169e-03, -4.3988e-03,  3.2909e-05, -1.5865e-02],\n",
      "        [-4.9383e-02,  7.0202e-02, -2.1791e-01,  6.4700e-02, -4.1496e-01,\n",
      "          1.6791e-01,  3.8897e-01,  7.7581e-02, -3.1088e-01, -1.8914e-01,\n",
      "         -3.8017e-02,  9.4647e-02, -1.7534e-01,  1.0138e-01,  2.9059e-01,\n",
      "         -2.7139e-01,  4.1544e-02,  2.9498e-01,  6.6166e-01, -5.0824e-02],\n",
      "        [-1.9687e-01,  8.1230e-02,  3.6116e-02, -8.3309e-02, -1.0283e-01,\n",
      "         -2.5382e-02,  8.5046e-02,  5.2854e-02,  2.0922e-02,  2.4365e-02,\n",
      "         -1.3622e-01,  9.4720e-03,  9.8948e-02,  6.2909e-02, -2.7346e-02,\n",
      "         -6.5543e-02, -6.6823e-02, -9.2579e-03, -8.2636e-02, -1.7131e-01],\n",
      "        [-8.2958e-01, -2.4920e-01,  3.5299e-01,  1.0120e-01, -7.1916e-01,\n",
      "         -2.0013e-01,  5.2807e-02, -2.0925e-01,  1.2057e-01, -3.4875e-02,\n",
      "          4.9412e-02, -2.0009e-01, -1.7826e-01, -2.6540e-01,  1.3250e-02,\n",
      "         -3.6740e-01,  3.7174e-01,  1.7097e-01, -5.0281e-01,  1.7809e-01],\n",
      "        [-1.4260e-01,  1.6461e-01,  2.8934e-01,  2.9190e-01,  3.9275e-01,\n",
      "         -1.5775e-01, -2.5983e-01,  3.4823e-02,  1.3234e-01, -1.7308e-01,\n",
      "         -3.2196e-01, -9.3904e-02, -4.6953e-02, -4.6758e-01, -9.7588e-02,\n",
      "          2.8286e-01,  2.2805e-01, -1.6075e-01, -7.4005e-01,  5.0392e-02],\n",
      "        [ 1.1139e-01,  2.6380e-01, -2.1900e-01,  7.9716e-02,  4.0699e-02,\n",
      "          1.8743e-01,  2.2231e-01,  7.1150e-02, -3.1508e-01, -2.7781e-01,\n",
      "         -3.2142e-01,  1.1588e-01, -7.4840e-02, -3.0146e-02,  2.4329e-01,\n",
      "         -7.2556e-02, -7.9752e-03,  1.3015e-01,  3.1002e-01,  4.4240e-03],\n",
      "        [-1.1794e-02, -1.1413e-02,  2.5965e-02, -3.5186e-02,  9.5481e-03,\n",
      "         -2.8834e-02, -1.6526e-02,  2.5118e-02,  5.5509e-02,  6.0261e-02,\n",
      "          2.8791e-02, -4.0543e-03,  4.5802e-02,  4.1273e-02, -5.1349e-02,\n",
      "          2.4960e-02, -3.8968e-02, -3.3448e-02, -2.4403e-02, -6.8459e-02],\n",
      "        [ 5.3984e-02,  1.2244e-02, -2.1498e-01, -3.3509e-01, -4.8862e-02,\n",
      "          1.5174e-01,  6.0540e-02, -1.9003e-01, -1.2877e-01,  4.9115e-02,\n",
      "         -8.6937e-02,  6.1935e-02,  1.7184e-01,  2.5125e-01,  5.0460e-02,\n",
      "         -2.1531e-01, -2.1536e-01, -8.3481e-03,  4.8835e-02,  1.5000e-01],\n",
      "        [ 5.9120e-02, -5.4089e-02, -5.2603e-02,  8.7637e-02, -4.7783e-02,\n",
      "          5.6640e-02,  3.1099e-03, -9.5635e-02, -1.0429e-01, -1.0689e-01,\n",
      "          4.2455e-02, -9.2487e-03, -1.3797e-01, -9.4603e-02,  1.0859e-01,\n",
      "         -6.0839e-02,  1.1589e-01,  8.4666e-02,  8.0698e-02,  2.2268e-01],\n",
      "        [-5.1097e-01,  2.8727e-02,  1.6086e-01,  4.7650e-02, -4.3285e-01,\n",
      "         -9.6525e-02,  1.9579e-01,  7.8265e-02,  2.6827e-02, -3.7049e-02,\n",
      "         -1.1851e-01, -4.4833e-02, -3.2149e-02, -5.0669e-02,  2.5905e-02,\n",
      "         -1.9091e-01,  1.0681e-01,  1.1721e-01, -9.1057e-02, -2.1161e-01],\n",
      "        [ 3.4471e-01, -7.5149e-01,  8.3699e-02,  2.9188e-02, -2.2325e-01,\n",
      "         -1.3289e-01, -3.0547e-01, -2.2365e-01,  3.0629e-01,  4.1241e-01,\n",
      "          1.1065e+00, -1.5431e-01, -2.3672e-01,  1.2091e-01, -1.7039e-01,\n",
      "          4.8599e-02,  1.5091e-01,  3.2962e-02,  3.6046e-01,  3.8641e-01],\n",
      "        [ 1.0290e-02,  5.5040e-03,  7.9629e-03,  2.6015e-02,  4.6123e-03,\n",
      "         -8.5731e-03,  7.7278e-03,  3.3539e-02,  7.4363e-03,  6.3760e-04,\n",
      "          1.2565e-02,  2.4335e-03, -1.0894e-02, -4.0460e-03, -2.9518e-03,\n",
      "          2.3057e-02,  5.4222e-03,  3.3531e-03,  3.4460e-02, -3.7275e-02],\n",
      "        [-2.5924e-01, -5.9646e-02,  4.8023e-01,  5.5091e-01,  6.0954e-02,\n",
      "         -3.2781e-01, -1.8852e-01,  2.4547e-01,  3.0456e-01, -5.8826e-02,\n",
      "          1.1086e-01, -1.6383e-01, -2.6217e-01, -5.0700e-01, -1.4978e-01,\n",
      "          3.4719e-01,  4.1611e-01, -3.4534e-02, -3.9509e-01, -1.9368e-01],\n",
      "        [-1.0591e-02,  2.0129e-02, -7.5564e-02,  1.9320e-02, -1.3701e-02,\n",
      "          9.2464e-02, -7.7753e-04, -1.7390e-01, -1.5723e-01, -1.6460e-01,\n",
      "         -1.3344e-01, -3.3520e-03, -8.2014e-02, -1.1871e-01,  1.3357e-01,\n",
      "         -1.2211e-01,  9.3582e-02,  6.3022e-02, -9.7688e-02,  3.0174e-01]],\n",
      "       grad_fn=<ViewBackward0>)\n"
     ]
    }
   ],
   "source": [
    "# Assemble the weights for fc1 from the U and V matrices\n",
    "import einops\n",
    "\n",
    "weights_1 = einops.einsum(Us1, Vs1, \"c u, c v -> u v\")\n",
    "\n",
    "weights_2 = einops.einsum(Us2, Vs2, \"c u, c v -> u v\")\n",
    "\n",
    "weights_3 = einops.einsum(Us3, Vs3, \"c u, c v -> u v\")\n",
    "\n",
    "print(weights_3)\n"
   ]
  }
 ],
 "metadata": {
  "kernelspec": {
   "display_name": "Python (uv)",
   "language": "python",
   "name": "uv-env"
  },
  "language_info": {
   "codemirror_mode": {
    "name": "ipython",
    "version": 3
   },
   "file_extension": ".py",
   "mimetype": "text/x-python",
   "name": "python",
   "nbconvert_exporter": "python",
   "pygments_lexer": "ipython3",
   "version": "3.12.11"
  }
 },
 "nbformat": 4,
 "nbformat_minor": 5
}
